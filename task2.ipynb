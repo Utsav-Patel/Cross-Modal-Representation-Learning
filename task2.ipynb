{
 "cells": [
  {
   "cell_type": "code",
   "execution_count": 3,
   "metadata": {},
   "outputs": [],
   "source": [
    "import torch\n",
    "import torch.nn as nn\n",
    "import torch.nn.functional as F\n",
    "import os\n",
    "import pickle\n",
    "\n",
    "from cca_zoo.deepmodels.dcca import DCCA\n",
    "from cca_zoo.deepmodels import architectures\n"
   ]
  },
  {
   "cell_type": "code",
   "execution_count": 4,
   "metadata": {},
   "outputs": [],
   "source": [
    "def read_pickle(fpath):\n",
    "    objects = []\n",
    "    with (open(fpath, \"rb\")) as openfile:\n",
    "        while True:\n",
    "            try:\n",
    "                objects.append(pickle.load(openfile))\n",
    "            except EOFError:\n",
    "                break\n",
    "    if len(objects) == 1:\n",
    "        return objects[0]\n",
    "    return objects\n",
    "    "
   ]
  },
  {
   "cell_type": "code",
   "execution_count": null,
   "metadata": {},
   "outputs": [],
   "source": [
    "encoder_1 = architectures.Encoder(latent_dims=latent_dims, feature_size=784)\n",
    "encoder_2 = architectures.Encoder(latent_dims=latent_dims, feature_size=784)"
   ]
  }
 ],
 "metadata": {
  "kernelspec": {
   "display_name": "Python 3.9.7 64-bit ('stylegan3': conda)",
   "name": "python397jvsc74a57bd04f8deef235adc772f216c43c45ee90beda764f1a97b119e605980b140ae0369a"
  },
  "language_info": {
   "codemirror_mode": {
    "name": "ipython",
    "version": 3
   },
   "file_extension": ".py",
   "mimetype": "text/x-python",
   "name": "python",
   "nbconvert_exporter": "python",
   "pygments_lexer": "ipython3",
   "version": "3.9.7"
  },
  "orig_nbformat": 2
 },
 "nbformat": 4,
 "nbformat_minor": 2
}