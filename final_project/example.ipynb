{
 "cells": [
  {
   "cell_type": "code",
   "execution_count": 1,
   "id": "ed5a8fe0-2ff5-4aae-b9ba-eff5568ba1b9",
   "metadata": {},
   "outputs": [],
   "source": [
    "import torch\n",
    "import torch.nn as nn\n",
    "\n",
    "from models import TextEncoder, ImageEncoder\n",
    "from datasets import Recipe1MDataset\n",
    "from torch.utils.data import DataLoader\n",
    "from transformers import BertTokenizer"
   ]
  },
  {
   "cell_type": "code",
   "execution_count": 2,
   "id": "8531d0d2-b89d-415c-af8b-0e2c764e1eca",
   "metadata": {},
   "outputs": [
    {
     "name": "stderr",
     "output_type": "stream",
     "text": [
      "Some weights of the model checkpoint at bert-base-uncased were not used when initializing BertModel: ['cls.predictions.transform.dense.bias', 'cls.predictions.transform.dense.weight', 'cls.seq_relationship.bias', 'cls.seq_relationship.weight', 'cls.predictions.decoder.weight', 'cls.predictions.bias', 'cls.predictions.transform.LayerNorm.bias', 'cls.predictions.transform.LayerNorm.weight']\n",
      "- This IS expected if you are initializing BertModel from the checkpoint of a model trained on another task or with another architecture (e.g. initializing a BertForSequenceClassification model from a BertForPreTraining model).\n",
      "- This IS NOT expected if you are initializing BertModel from the checkpoint of a model that you expect to be exactly identical (initializing a BertForSequenceClassification model from a BertForSequenceClassification model).\n"
     ]
    }
   ],
   "source": [
    "temp = torch.load('saved_models/model.pt', map_location='cpu')\n",
    "img_encoder = ImageEncoder()\n",
    "txt_encoder = TextEncoder(2, 2)"
   ]
  },
  {
   "cell_type": "code",
   "execution_count": 3,
   "id": "478258f3-a4c7-4e4b-9c50-89af117a2427",
   "metadata": {},
   "outputs": [
    {
     "data": {
      "text/plain": [
       "<All keys matched successfully>"
      ]
     },
     "execution_count": 3,
     "metadata": {},
     "output_type": "execute_result"
    }
   ],
   "source": [
    "img_encoder.load_state_dict(temp['img_encoder'])\n",
    "txt_encoder.load_state_dict(temp['txt_encoder'])"
   ]
  },
  {
   "cell_type": "code",
   "execution_count": 4,
   "id": "5ff4d824-a06b-4aa3-bcb6-98ee83e25698",
   "metadata": {},
   "outputs": [],
   "source": [
    "data = Recipe1MDataset(part='train')"
   ]
  },
  {
   "cell_type": "code",
   "execution_count": 5,
   "id": "ac8beb18-ff92-4b59-904f-682d6e3521ea",
   "metadata": {},
   "outputs": [
    {
     "data": {
      "text/plain": [
       "('Kombu Tea Grilled Chicken Thigh\\nchicken thighs\\ntea\\nwhite pepper\\nPierce the skin of the chicken with a fork or knife.\\nSprinkle with kombu tea evenly on both sides of the chicken, about 1 teaspoon per chicken thigh.\\nBrown the skin side of the chicken first over high heat until golden brown.\\nSprinkle some pepper on the meat just before flipping over.\\nThen brown the other side until golden brown.',\n",
       " tensor([[[ 0.6627,  0.6706,  0.6784,  ...,  0.7961,  0.7961,  0.7647],\n",
       "          [ 0.6627,  0.6706,  0.6706,  ...,  0.7804,  0.7882,  0.8039],\n",
       "          [ 0.6863,  0.6863,  0.6784,  ...,  0.7961,  0.7882,  0.8118],\n",
       "          ...,\n",
       "          [ 0.1137,  0.0902,  0.0824,  ...,  0.0902,  0.2706,  0.8824],\n",
       "          [ 0.1373,  0.1059,  0.1059,  ...,  0.1216,  0.0275,  0.6314],\n",
       "          [ 0.1686,  0.1216,  0.1059,  ...,  0.1686,  0.0118,  0.1765]],\n",
       " \n",
       "         [[ 0.5529,  0.5608,  0.5686,  ...,  0.6863,  0.6863,  0.6549],\n",
       "          [ 0.5529,  0.5608,  0.5608,  ...,  0.6706,  0.6784,  0.6941],\n",
       "          [ 0.5765,  0.5765,  0.5686,  ...,  0.6863,  0.6784,  0.7020],\n",
       "          ...,\n",
       "          [-0.0039, -0.0275, -0.0353,  ..., -0.2471,  0.0039,  0.6863],\n",
       "          [ 0.0275, -0.0039,  0.0039,  ..., -0.2549, -0.2784,  0.3961],\n",
       "          [ 0.0588,  0.0118, -0.0039,  ..., -0.2392, -0.3255, -0.0902]],\n",
       " \n",
       "         [[ 0.5294,  0.5373,  0.5451,  ...,  0.6784,  0.6784,  0.6471],\n",
       "          [ 0.5294,  0.5373,  0.5373,  ...,  0.6627,  0.6706,  0.6863],\n",
       "          [ 0.5529,  0.5529,  0.5451,  ...,  0.6784,  0.6706,  0.6941],\n",
       "          ...,\n",
       "          [-0.2314, -0.2549, -0.2784,  ..., -0.5843, -0.2863,  0.4431],\n",
       "          [-0.2000, -0.2314, -0.2471,  ..., -0.6314, -0.6000,  0.1137],\n",
       "          [-0.1529, -0.2157, -0.2314,  ..., -0.6157, -0.6627, -0.3882]]]))"
      ]
     },
     "execution_count": 5,
     "metadata": {},
     "output_type": "execute_result"
    }
   ],
   "source": [
    "data[0]"
   ]
  },
  {
   "cell_type": "code",
   "execution_count": 6,
   "id": "436105c3-6ecd-48b6-9584-2bed0cd7600f",
   "metadata": {},
   "outputs": [],
   "source": [
    "dataloader = DataLoader(data, batch_size=8, shuffle=False)"
   ]
  },
  {
   "cell_type": "code",
   "execution_count": 7,
   "id": "27585951-758d-44d0-8526-cf3bd6bd7b06",
   "metadata": {},
   "outputs": [],
   "source": [
    "tokenizer = BertTokenizer.from_pretrained('bert-base-uncased')"
   ]
  },
  {
   "cell_type": "code",
   "execution_count": 8,
   "id": "be172079-1b40-4fba-8278-d548211124ef",
   "metadata": {},
   "outputs": [],
   "source": [
    "import pickle\n",
    "\n",
    "\n",
    "def pickler(obj, fpath, mode):\n",
    "    with open(fpath, mode) as f:\n",
    "        pickle.dump(obj, f)"
   ]
  },
  {
   "cell_type": "code",
   "execution_count": 9,
   "id": "3e3e1907-42e8-4abc-b853-cec6e0b990d9",
   "metadata": {},
   "outputs": [
    {
     "name": "stderr",
     "output_type": "stream",
     "text": [
      "  0%|                                                   | 12/56541 [00:09<12:10:43,  1.29it/s]\n"
     ]
    },
    {
     "ename": "KeyboardInterrupt",
     "evalue": "",
     "output_type": "error",
     "traceback": [
      "\u001b[0;31m---------------------------------------------------------------------------\u001b[0m",
      "\u001b[0;31mKeyboardInterrupt\u001b[0m                         Traceback (most recent call last)",
      "\u001b[0;32m/tmp/ipykernel_2364477/2800707081.py\u001b[0m in \u001b[0;36m<module>\u001b[0;34m\u001b[0m\n\u001b[1;32m     10\u001b[0m         \u001b[0;31m# txt_cls_output, other_tokens = txt_encoder(**txt_input)\u001b[0m\u001b[0;34m\u001b[0m\u001b[0;34m\u001b[0m\u001b[0m\n\u001b[1;32m     11\u001b[0m         \u001b[0mimg_patches\u001b[0m \u001b[0;34m=\u001b[0m \u001b[0mimg_encoder\u001b[0m\u001b[0;34m(\u001b[0m\u001b[0mimage\u001b[0m\u001b[0;34m.\u001b[0m\u001b[0mto\u001b[0m\u001b[0;34m(\u001b[0m\u001b[0mdevice\u001b[0m\u001b[0;34m)\u001b[0m\u001b[0;34m)\u001b[0m\u001b[0;34m\u001b[0m\u001b[0;34m\u001b[0m\u001b[0m\n\u001b[0;32m---> 12\u001b[0;31m         \u001b[0mpickler\u001b[0m\u001b[0;34m(\u001b[0m\u001b[0mimg_patches\u001b[0m\u001b[0;34m.\u001b[0m\u001b[0mcpu\u001b[0m\u001b[0;34m(\u001b[0m\u001b[0;34m)\u001b[0m\u001b[0;34m.\u001b[0m\u001b[0mnumpy\u001b[0m\u001b[0;34m(\u001b[0m\u001b[0;34m)\u001b[0m\u001b[0;34m,\u001b[0m \u001b[0;34m'saved_models/image_embeddings.pkl'\u001b[0m\u001b[0;34m,\u001b[0m \u001b[0;34m'ab'\u001b[0m\u001b[0;34m)\u001b[0m\u001b[0;34m\u001b[0m\u001b[0;34m\u001b[0m\u001b[0m\n\u001b[0m",
      "\u001b[0;32m/tmp/ipykernel_2364477/681156820.py\u001b[0m in \u001b[0;36mpickler\u001b[0;34m(obj, fpath, mode)\u001b[0m\n\u001b[1;32m      4\u001b[0m \u001b[0;32mdef\u001b[0m \u001b[0mpickler\u001b[0m\u001b[0;34m(\u001b[0m\u001b[0mobj\u001b[0m\u001b[0;34m,\u001b[0m \u001b[0mfpath\u001b[0m\u001b[0;34m,\u001b[0m \u001b[0mmode\u001b[0m\u001b[0;34m)\u001b[0m\u001b[0;34m:\u001b[0m\u001b[0;34m\u001b[0m\u001b[0;34m\u001b[0m\u001b[0m\n\u001b[1;32m      5\u001b[0m     \u001b[0;32mwith\u001b[0m \u001b[0mopen\u001b[0m\u001b[0;34m(\u001b[0m\u001b[0mfpath\u001b[0m\u001b[0;34m,\u001b[0m \u001b[0mmode\u001b[0m\u001b[0;34m)\u001b[0m \u001b[0;32mas\u001b[0m \u001b[0mf\u001b[0m\u001b[0;34m:\u001b[0m\u001b[0;34m\u001b[0m\u001b[0;34m\u001b[0m\u001b[0m\n\u001b[0;32m----> 6\u001b[0;31m         \u001b[0mpickle\u001b[0m\u001b[0;34m.\u001b[0m\u001b[0mdump\u001b[0m\u001b[0;34m(\u001b[0m\u001b[0mobj\u001b[0m\u001b[0;34m,\u001b[0m \u001b[0mf\u001b[0m\u001b[0;34m)\u001b[0m\u001b[0;34m\u001b[0m\u001b[0;34m\u001b[0m\u001b[0m\n\u001b[0m",
      "\u001b[0;31mKeyboardInterrupt\u001b[0m: "
     ]
    }
   ],
   "source": [
    "from tqdm import tqdm\n",
    "\n",
    "\n",
    "device = 'cuda:7'\n",
    "img_encoder = img_encoder.to(device)\n",
    "img_encoder.eval()\n",
    "with torch.no_grad():\n",
    "    for txt, image in tqdm(dataloader):\n",
    "        txt_input = tokenizer(txt, truncation=True, padding=True, return_tensors=\"pt\")\n",
    "        # txt_cls_output, other_tokens = txt_encoder(**txt_input)\n",
    "        img_patches = img_encoder(image.to(device))\n",
    "        pickler(img_patches.cpu().numpy(), 'saved_models/image_embeddings.pkl', 'ab')"
   ]
  },
  {
   "cell_type": "code",
   "execution_count": null,
   "id": "b9605c98-db68-4773-913c-0e259be38ee5",
   "metadata": {},
   "outputs": [],
   "source": []
  }
 ],
 "metadata": {
  "kernelspec": {
   "display_name": "stylegan3",
   "language": "python",
   "name": "stylegan3"
  },
  "language_info": {
   "codemirror_mode": {
    "name": "ipython",
    "version": 3
   },
   "file_extension": ".py",
   "mimetype": "text/x-python",
   "name": "python",
   "nbconvert_exporter": "python",
   "pygments_lexer": "ipython3",
   "version": "3.9.7"
  }
 },
 "nbformat": 4,
 "nbformat_minor": 5
}
