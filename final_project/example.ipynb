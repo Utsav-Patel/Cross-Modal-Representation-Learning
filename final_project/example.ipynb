{
 "cells": [
  {
   "cell_type": "code",
   "execution_count": 11,
   "id": "ed5a8fe0-2ff5-4aae-b9ba-eff5568ba1b9",
   "metadata": {},
   "outputs": [],
   "source": [
    "import torch\n",
    "\n",
    "from models import TextEncoder, ImageEncoder\n",
    "from datasets import Recipe1MDataset\n",
    "from torch.utils.data import DataLoader\n",
    "from transformers import BertTokenizer"
   ]
  },
  {
   "cell_type": "code",
   "execution_count": 8,
   "id": "8531d0d2-b89d-415c-af8b-0e2c764e1eca",
   "metadata": {},
   "outputs": [
    {
     "name": "stderr",
     "output_type": "stream",
     "text": [
      "Some weights of the model checkpoint at bert-base-uncased were not used when initializing BertModel: ['cls.predictions.bias', 'cls.predictions.transform.dense.weight', 'cls.predictions.decoder.weight', 'cls.seq_relationship.weight', 'cls.predictions.transform.dense.bias', 'cls.predictions.transform.LayerNorm.bias', 'cls.predictions.transform.LayerNorm.weight', 'cls.seq_relationship.bias']\n",
      "- This IS expected if you are initializing BertModel from the checkpoint of a model trained on another task or with another architecture (e.g. initializing a BertForSequenceClassification model from a BertForPreTraining model).\n",
      "- This IS NOT expected if you are initializing BertModel from the checkpoint of a model that you expect to be exactly identical (initializing a BertForSequenceClassification model from a BertForSequenceClassification model).\n"
     ]
    }
   ],
   "source": [
    "temp = torch.load('model.pt', map_location='cpu')\n",
    "img_encoder = ImageEncoder()\n",
    "txt_encoder = TextEncoder(2, 2)"
   ]
  },
  {
   "cell_type": "code",
   "execution_count": 9,
   "id": "478258f3-a4c7-4e4b-9c50-89af117a2427",
   "metadata": {},
   "outputs": [
    {
     "data": {
      "text/plain": [
       "<All keys matched successfully>"
      ]
     },
     "execution_count": 9,
     "metadata": {},
     "output_type": "execute_result"
    }
   ],
   "source": [
    "img_encoder.load_state_dict(temp['img_encoder'])\n",
    "txt_encoder.load_state_dict(temp['txt_encoder'])"
   ]
  },
  {
   "cell_type": "code",
   "execution_count": 3,
   "id": "5ff4d824-a06b-4aa3-bcb6-98ee83e25698",
   "metadata": {},
   "outputs": [],
   "source": [
    "data = Recipe1MDataset(part='train')"
   ]
  },
  {
   "cell_type": "code",
   "execution_count": 4,
   "id": "ac8beb18-ff92-4b59-904f-682d6e3521ea",
   "metadata": {},
   "outputs": [
    {
     "data": {
      "text/plain": [
       "('Kombu Tea Grilled Chicken Thigh\\nchicken thighs\\ntea\\nwhite pepper\\nPierce the skin of the chicken with a fork or knife.\\nSprinkle with kombu tea evenly on both sides of the chicken, about 1 teaspoon per chicken thigh.\\nBrown the skin side of the chicken first over high heat until golden brown.\\nSprinkle some pepper on the meat just before flipping over.\\nThen brown the other side until golden brown.',\n",
       " tensor([[[ 0.6627,  0.6706,  0.6784,  ...,  0.7961,  0.7961,  0.7647],\n",
       "          [ 0.6627,  0.6706,  0.6706,  ...,  0.7804,  0.7882,  0.8039],\n",
       "          [ 0.6863,  0.6863,  0.6784,  ...,  0.7961,  0.7882,  0.8118],\n",
       "          ...,\n",
       "          [ 0.1137,  0.0902,  0.0824,  ...,  0.0902,  0.2706,  0.8824],\n",
       "          [ 0.1373,  0.1059,  0.1059,  ...,  0.1216,  0.0275,  0.6314],\n",
       "          [ 0.1686,  0.1216,  0.1059,  ...,  0.1686,  0.0118,  0.1765]],\n",
       " \n",
       "         [[ 0.5529,  0.5608,  0.5686,  ...,  0.6863,  0.6863,  0.6549],\n",
       "          [ 0.5529,  0.5608,  0.5608,  ...,  0.6706,  0.6784,  0.6941],\n",
       "          [ 0.5765,  0.5765,  0.5686,  ...,  0.6863,  0.6784,  0.7020],\n",
       "          ...,\n",
       "          [-0.0039, -0.0275, -0.0353,  ..., -0.2471,  0.0039,  0.6863],\n",
       "          [ 0.0275, -0.0039,  0.0039,  ..., -0.2549, -0.2784,  0.3961],\n",
       "          [ 0.0588,  0.0118, -0.0039,  ..., -0.2392, -0.3255, -0.0902]],\n",
       " \n",
       "         [[ 0.5294,  0.5373,  0.5451,  ...,  0.6784,  0.6784,  0.6471],\n",
       "          [ 0.5294,  0.5373,  0.5373,  ...,  0.6627,  0.6706,  0.6863],\n",
       "          [ 0.5529,  0.5529,  0.5451,  ...,  0.6784,  0.6706,  0.6941],\n",
       "          ...,\n",
       "          [-0.2314, -0.2549, -0.2784,  ..., -0.5843, -0.2863,  0.4431],\n",
       "          [-0.2000, -0.2314, -0.2471,  ..., -0.6314, -0.6000,  0.1137],\n",
       "          [-0.1529, -0.2157, -0.2314,  ..., -0.6157, -0.6627, -0.3882]]]))"
      ]
     },
     "execution_count": 4,
     "metadata": {},
     "output_type": "execute_result"
    }
   ],
   "source": [
    "data[0]"
   ]
  },
  {
   "cell_type": "code",
   "execution_count": 6,
   "id": "436105c3-6ecd-48b6-9584-2bed0cd7600f",
   "metadata": {},
   "outputs": [],
   "source": [
    "dataloader = DataLoader(data, batch_size=4, shuffle=True)"
   ]
  },
  {
   "cell_type": "code",
   "execution_count": 12,
   "id": "27585951-758d-44d0-8526-cf3bd6bd7b06",
   "metadata": {},
   "outputs": [],
   "source": [
    "tokenizer = BertTokenizer.from_pretrained('bert-base-uncased')"
   ]
  },
  {
   "cell_type": "code",
   "execution_count": 15,
   "id": "3e3e1907-42e8-4abc-b853-cec6e0b990d9",
   "metadata": {},
   "outputs": [
    {
     "name": "stdout",
     "output_type": "stream",
     "text": [
      "torch.Size([4, 768]) torch.Size([4, 313, 768]) torch.Size([4, 768]) torch.Size([4, 196, 768])\n"
     ]
    }
   ],
   "source": [
    "for txt, image in dataloader:\n",
    "    txt_input = tokenizer(txt, truncation=True, padding=True, return_tensors=\"pt\")\n",
    "    txt_cls_output, other_tokens = txt_encoder(**txt_input)\n",
    "    img_cls_output, img_patches = img_encoder(image)\n",
    "    print(cls_output.shape, other_tokens.shape, img_cls_output.shape, img_patches.shape)\n",
    "    break\n",
    "    "
   ]
  },
  {
   "cell_type": "code",
   "execution_count": null,
   "id": "f8cf6974-295c-4980-a079-c3da9997aa09",
   "metadata": {},
   "outputs": [],
   "source": []
  }
 ],
 "metadata": {
  "kernelspec": {
   "display_name": "stylegan3",
   "language": "python",
   "name": "stylegan3"
  },
  "language_info": {
   "codemirror_mode": {
    "name": "ipython",
    "version": 3
   },
   "file_extension": ".py",
   "mimetype": "text/x-python",
   "name": "python",
   "nbconvert_exporter": "python",
   "pygments_lexer": "ipython3",
   "version": "3.9.7"
  }
 },
 "nbformat": 4,
 "nbformat_minor": 5
}
