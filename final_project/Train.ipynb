{
 "cells": [
  {
   "cell_type": "code",
   "execution_count": 1,
   "id": "d79826e1-dd88-47b5-beda-afcc16e099eb",
   "metadata": {},
   "outputs": [],
   "source": [
    "import torch\n",
    "import torch.nn as nn\n",
    "\n",
    "from datasets import Recipe1MDataset\n",
    "from models import TextEncoder, ImageEncoder, CrossModalAttention\n",
    "from trainer import train\n",
    "from helper import freeze_params\n",
    "from torch.utils.data import DataLoader\n",
    "from transformers import BertTokenizer"
   ]
  },
  {
   "cell_type": "code",
   "execution_count": 2,
   "id": "451d819f-a137-4793-96c2-e57c136977c3",
   "metadata": {},
   "outputs": [],
   "source": [
    "saved_model_path = 'saved_models/model.pt'\n",
    "saved_weights = torch.load(saved_model_path, map_location='cpu')"
   ]
  },
  {
   "cell_type": "code",
   "execution_count": 3,
   "id": "dd140d1f-0659-4ff9-8660-873cd92634ad",
   "metadata": {},
   "outputs": [
    {
     "name": "stderr",
     "output_type": "stream",
     "text": [
      "Some weights of the model checkpoint at bert-base-uncased were not used when initializing BertModel: ['cls.predictions.transform.LayerNorm.bias', 'cls.seq_relationship.weight', 'cls.predictions.bias', 'cls.seq_relationship.bias', 'cls.predictions.decoder.weight', 'cls.predictions.transform.LayerNorm.weight', 'cls.predictions.transform.dense.bias', 'cls.predictions.transform.dense.weight']\n",
      "- This IS expected if you are initializing BertModel from the checkpoint of a model trained on another task or with another architecture (e.g. initializing a BertForSequenceClassification model from a BertForPreTraining model).\n",
      "- This IS NOT expected if you are initializing BertModel from the checkpoint of a model that you expect to be exactly identical (initializing a BertForSequenceClassification model from a BertForSequenceClassification model).\n",
      "/common/home/as3503/.conda/envs/stylegan3/lib/python3.9/site-packages/torchvision/transforms/transforms.py:1248: UserWarning: Argument resample is deprecated and will be removed since v0.10.0. Please, use interpolation instead\n",
      "  warnings.warn(\n"
     ]
    }
   ],
   "source": [
    "device = 'cuda:7'\n",
    "text_encoder = TextEncoder(2, 2)\n",
    "text_encoder.load_state_dict(saved_weights['txt_encoder'])\n",
    "text_encoder = text_encoder.to(device)\n",
    "image_encoder = ImageEncoder()\n",
    "image_encoder.load_state_dict(saved_weights['img_encoder'])\n",
    "image_encoder = image_encoder.to(device)\n",
    "cm_transformer = CrossModalAttention().to(device)\n",
    "train_dataset = Recipe1MDataset(part='train')\n",
    "val_dataset = Recipe1MDataset(part='val')\n",
    "tokenizer = BertTokenizer.from_pretrained('bert-base-uncased')\n",
    "save_dir = 'saved_models/'"
   ]
  },
  {
   "cell_type": "code",
   "execution_count": 4,
   "id": "e1d832b8-667a-4b49-9773-1718877d1f41",
   "metadata": {},
   "outputs": [],
   "source": [
    "freeze_params(text_encoder)\n",
    "freeze_params(image_encoder)"
   ]
  },
  {
   "cell_type": "code",
   "execution_count": 5,
   "id": "9e9c39d6-2c75-4e00-9205-42698e22bdee",
   "metadata": {},
   "outputs": [],
   "source": [
    "batch_size = 8\n",
    "train_loader = DataLoader(train_dataset, batch_size=batch_size)\n",
    "val_loader = DataLoader(val_dataset, batch_size=batch_size)"
   ]
  },
  {
   "cell_type": "code",
   "execution_count": null,
   "id": "52b8dfa8-c93c-4e7b-9772-ff1b5aee8850",
   "metadata": {},
   "outputs": [
    {
     "name": "stdout",
     "output_type": "stream",
     "text": [
      "New epoch!\n"
     ]
    },
    {
     "name": "stderr",
     "output_type": "stream",
     "text": [
      "  2%|▉                                                | 1153/56541 [17:25<15:25:54,  1.00s/it]"
     ]
    }
   ],
   "source": [
    "train(\n",
    "    image_encoder=image_encoder,\n",
    "    text_encoder=text_encoder,\n",
    "    cm_transformer=cm_transformer,\n",
    "    train_dataloader=train_loader,\n",
    "    val_dataloader=val_loader,\n",
    "    tokenizer=tokenizer,\n",
    "    save_dir=save_dir,\n",
    "    train_encoders=False,\n",
    "    device=device\n",
    ")"
   ]
  }
 ],
 "metadata": {
  "kernelspec": {
   "display_name": "stylegan3",
   "language": "python",
   "name": "stylegan3"
  },
  "language_info": {
   "codemirror_mode": {
    "name": "ipython",
    "version": 3
   },
   "file_extension": ".py",
   "mimetype": "text/x-python",
   "name": "python",
   "nbconvert_exporter": "python",
   "pygments_lexer": "ipython3",
   "version": "3.9.7"
  }
 },
 "nbformat": 4,
 "nbformat_minor": 5
}
