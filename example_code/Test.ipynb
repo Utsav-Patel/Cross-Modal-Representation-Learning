{
 "cells": [
  {
   "cell_type": "code",
   "execution_count": 32,
   "id": "fbb4b5b6-2c21-4c90-9b44-e980d2e8bebf",
   "metadata": {},
   "outputs": [],
   "source": [
    "import torch\n",
    "import os\n",
    "import numpy as np\n",
    "import json\n",
    "import lmdb\n",
    "import random\n",
    "\n",
    "from torch import nn\n",
    "from torch.nn import functional as F\n",
    "from torch.utils.data import Dataset, DataLoader\n",
    "from torchvision import transforms\n",
    "from PIL import Image\n",
    "from io import BytesIO"
   ]
  },
  {
   "cell_type": "code",
   "execution_count": 23,
   "id": "be3eab25-1d94-4c2b-9997-1d7304afc574",
   "metadata": {},
   "outputs": [],
   "source": [
    "def get_train_transforms(mean, std):\n",
    "    return transforms.Compose([\n",
    "        transforms.Resize(256),\n",
    "        transforms.ColorJitter(hue=.05, saturation=.05),\n",
    "        transforms.RandomHorizontalFlip(),\n",
    "        transforms.RandomVerticalFlip(),\n",
    "        transforms.RandomRotation(20, resample=Image.BILINEAR),\n",
    "        transforms.RandomCrop((224,224)),\n",
    "        transforms.ToTensor(),\n",
    "        transforms.Normalize(mean=mean, std=std)\n",
    "    ])\n",
    "\n",
    "def get_val_transforms(mean, std):\n",
    "    return transforms.Compose([\n",
    "        transforms.Resize(256),\n",
    "        transforms.CenterCrop((224,224)),\n",
    "        transforms.ToTensor(),\n",
    "        transforms.Normalize(mean=mean, std=std)\n",
    "    ])\n",
    "\n",
    "\n",
    "# https://discuss.pytorch.org/t/how-can-torchvison-models-deal-with-image-whose-size-is-not-224-224/51077/3\n",
    "mean = [0.485, 0.456, 0.406]\n",
    "std = [0.229, 0.224, 0.225]\n",
    "\n",
    "train_transform = get_train_transforms(mean, std)\n",
    "val_transform = get_val_transforms(mean, std)\n",
    "ROOT = '/common/users/as3503/courses/cs536'"
   ]
  },
  {
   "cell_type": "code",
   "execution_count": 24,
   "id": "b1fd0f9e-28e7-48c3-85cb-3a387fd793a6",
   "metadata": {},
   "outputs": [
    {
     "name": "stdout",
     "output_type": "stream",
     "text": [
      "/common/users/as3503/courses/cs536/final_project/test_dir\n"
     ]
    }
   ],
   "source": [
    "! pwd"
   ]
  },
  {
   "cell_type": "code",
   "execution_count": 37,
   "id": "35c92f85-72f8-44d1-a2ea-e2b74d6c109e",
   "metadata": {},
   "outputs": [],
   "source": [
    "class Recipe1MDataset(Dataset):\n",
    "    def __init__(\n",
    "        self, \n",
    "        lmdb_file=f'{ROOT}/dataset/Recipe1M.lmdb',\n",
    "        part='', food_type='',\n",
    "        transform=None, resolution=256, return_image=True):\n",
    "\n",
    "        assert part in ['', 'train', 'val', 'test'], \"part has to be in ['', 'train', 'val', 'test']\"\n",
    "        assert food_type in ['', 'salad', 'cookie', 'muffin'], \"part has to be in ['', 'salad', 'cookie', 'muffin']\"\n",
    "\n",
    "        dirname = os.path.dirname(lmdb_file)\n",
    "        path = os.path.join(dirname, 'keys.json')\n",
    "\n",
    "        with open(path, 'r') as f:\n",
    "            self.keys = json.load(f)\n",
    "        \n",
    "        self.all_keys = self.keys\n",
    "        self.keys = [x for x in self.keys if x['with_image']]\n",
    "        if part:\n",
    "            self.keys = [x for x in self.keys if x['partition']==part]\n",
    "        if food_type:\n",
    "            self.keys = [x for x in self.keys if food_type.lower() in x['title'].lower()]\n",
    "\n",
    "        self.env = lmdb.open(\n",
    "            lmdb_file,\n",
    "            max_readers=32,\n",
    "            readonly=True,\n",
    "            lock=False,\n",
    "            readahead=False,\n",
    "            meminit=False,\n",
    "        )\n",
    "\n",
    "        if not self.env:\n",
    "            raise IOError('Cannot open lmdb dataset', lmdb_file)\n",
    "\n",
    "        # with self.env.begin(write=False) as txn:\n",
    "        #     self.length = int(txn.get('length'.encode('utf-8')).decode('utf-8'))\n",
    "\n",
    "        self.resolution = resolution\n",
    "\n",
    "        assert transform!=None, 'transform can not be None!'\n",
    "        self.transform = transform\n",
    "\n",
    "        self.return_image = return_image\n",
    "\n",
    "    def __len__(self):\n",
    "        return len(self.keys)\n",
    "\n",
    "    def _load_recipe(self, rcp):\n",
    "        rcp_id = rcp['id']\n",
    "\n",
    "        with self.env.begin(write=False) as txn:\n",
    "            # print(\"Loading recipe\")\n",
    "            key = f'title-{rcp_id}'.encode('utf-8')\n",
    "            title = txn.get(key).decode('utf-8')\n",
    "\n",
    "            key = f'ingredients-{rcp_id}'.encode('utf-8')\n",
    "            ingredients = txn.get(key).decode('utf-8')\n",
    "\n",
    "            key = f'instructions-{rcp_id}'.encode('utf-8')\n",
    "            instructions = txn.get(key).decode('utf-8')\n",
    "\n",
    "            key = f'{self.resolution}-{rcp_id}'.encode('utf-8')\n",
    "            img_bytes = txn.get(key)\n",
    "\n",
    "        txt = title\n",
    "        txt += '\\n'\n",
    "        txt += ingredients\n",
    "        txt += '\\n'\n",
    "        txt += instructions\n",
    "\n",
    "        buffer = BytesIO(img_bytes)\n",
    "        img = Image.open(buffer)\n",
    "        img = self.transform(img)\n",
    "        return txt, img\n",
    "\n",
    "    def __getitem__(self, index):\n",
    "        rcp_key = self.keys[index]\n",
    "        txt, img = self._load_recipe(rcp_key)\n",
    "        return txt, img\n"
   ]
  },
  {
   "cell_type": "code",
   "execution_count": 38,
   "id": "e0206c55-8b04-48d5-93c9-7885d9afa563",
   "metadata": {},
   "outputs": [],
   "source": [
    "train = Recipe1MDataset(transform=train_transform, part='train')\n",
    "val = Recipe1MDataset(transform=val_transform, part='val')\n",
    "test = Recipe1MDataset(transform=val_transform, part='test')"
   ]
  },
  {
   "cell_type": "code",
   "execution_count": 39,
   "id": "d68cbab7-6ac2-45c4-b10b-ce28b2100d3c",
   "metadata": {},
   "outputs": [
    {
     "data": {
      "text/plain": [
       "(452322, 97179, 97612)"
      ]
     },
     "execution_count": 39,
     "metadata": {},
     "output_type": "execute_result"
    }
   ],
   "source": [
    "len(train), len(val), len(test)"
   ]
  },
  {
   "cell_type": "code",
   "execution_count": 40,
   "id": "030bcb58-cda8-4039-ae73-7ed42d376fc7",
   "metadata": {},
   "outputs": [
    {
     "data": {
      "text/plain": [
       "(1274073, 647113)"
      ]
     },
     "execution_count": 40,
     "metadata": {},
     "output_type": "execute_result"
    }
   ],
   "source": [
    "len(train.all_keys), (len(train) + len(val) + len(test))"
   ]
  },
  {
   "cell_type": "code",
   "execution_count": null,
   "id": "7bee3b6a-f462-4931-a025-97f1c4b2fe7a",
   "metadata": {},
   "outputs": [],
   "source": []
  }
 ],
 "metadata": {
  "kernelspec": {
   "display_name": "mpg",
   "language": "python",
   "name": "mpg"
  },
  "language_info": {
   "codemirror_mode": {
    "name": "ipython",
    "version": 3
   },
   "file_extension": ".py",
   "mimetype": "text/x-python",
   "name": "python",
   "nbconvert_exporter": "python",
   "pygments_lexer": "ipython3",
   "version": "3.8.10"
  }
 },
 "nbformat": 4,
 "nbformat_minor": 5
}
